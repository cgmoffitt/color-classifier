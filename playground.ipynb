{
 "cells": [
  {
   "cell_type": "code",
   "execution_count": null,
   "metadata": {},
   "outputs": [],
   "source": [
    "#Imports\n",
    "import keras\n",
    "import os\n",
    "import numpy as np"
   ]
  },
  {
   "cell_type": "code",
   "execution_count": null,
   "metadata": {},
   "outputs": [],
   "source": [
    "#Declare possible labels\n",
    "colors = []\n",
    "labels = [\n",
    "        \"red\",\n",
    "        \"green\",\n",
    "        \"blue\",\n",
    "        \"orange\",\n",
    "        \"yellow\",\n",
    "        \"pink\",\n",
    "        \"purple\",\n",
    "        \"brown\",\n",
    "        \"grey\",\n",
    "        \"black\"\n",
    "    ]\n",
    "labelsList = []"
   ]
  },
  {
   "cell_type": "code",
   "execution_count": null,
   "metadata": {},
   "outputs": [],
   "source": [
    "#Load data and labels from clean_data.txt\n",
    "filepath = \"clean_data.txt\"\n",
    "if not os.path.isfile(filepath):\n",
    "    print(\"File path {} does not exist. Exiting...\".format(filepath))\n",
    "    sys.exit()\n",
    "with open(filepath) as fp:\n",
    "    i = 0\n",
    "    r = 0\n",
    "    g = 0\n",
    "    b = 0\n",
    "    for line in fp:\n",
    "        word = line.split(\",\")\n",
    "        col = [float(word[0]) / 255, float(word[1]) / 255, float(word[2]) / 255]\n",
    "        colors.append(col)\n",
    "        labelsList.append(labels.index(word[3].rstrip(\"\\n\")))\n",
    "            "
   ]
  },
  {
   "cell_type": "code",
   "execution_count": null,
   "metadata": {},
   "outputs": [],
   "source": [
    "#Change input data to numpy array and labels to a one-hot vector encoding\n",
    "xs = np.array(colors)\n",
    "labelsList = np.array(labelsList)\n",
    "ys = keras.backend.one_hot(labelsList, 10)\n"
   ]
  },
  {
   "cell_type": "code",
   "execution_count": null,
   "metadata": {},
   "outputs": [],
   "source": [
    "#Create architecture for model\n",
    "model = keras.Sequential()\n",
    "    \n",
    "model.add(keras.layers.Dense(units=16, activation='sigmoid', input_shape=[3]))\n",
    "\n",
    "model.add(keras.layers.Dense(units=10, activation='softmax'))\n",
    "\n",
    "opt = keras.optimizers.SGD(learning_rate=0.2)\n",
    "\n",
    "model.compile(optimizer=opt, loss='categorical_crossentropy')\n"
   ]
  },
  {
   "cell_type": "code",
   "execution_count": null,
   "metadata": {
    "scrolled": false
   },
   "outputs": [],
   "source": [
    "#Train model\n",
    "model.fit(x=xs,y=ys, epochs=500)"
   ]
  },
  {
   "cell_type": "code",
   "execution_count": null,
   "metadata": {},
   "outputs": [],
   "source": [
    "#Specify here what rgb values you want to test\n",
    "r = 31\n",
    "g = 38\n",
    "b = 163"
   ]
  },
  {
   "cell_type": "code",
   "execution_count": null,
   "metadata": {},
   "outputs": [],
   "source": [
    "#Convert to regularized numpy array for the model\n",
    "predict = [[(r / 255), (g / 255), (b / 255)]]\n",
    "predict = np.array(predict)"
   ]
  },
  {
   "cell_type": "code",
   "execution_count": null,
   "metadata": {},
   "outputs": [],
   "source": [
    "#Make model prediction\n",
    "prediction = model.predict(predict)\n",
    "prediction = keras.backend.argmax(prediction, axis=-1)\n",
    "prediction = labels[int(prediction)]\n",
    "print(prediction)"
   ]
  },
  {
   "cell_type": "code",
   "execution_count": 37,
   "metadata": {},
   "outputs": [],
   "source": [
    "model.save( 'models/model.h5' )"
   ]
  },
  {
   "cell_type": "code",
   "execution_count": 39,
   "metadata": {},
   "outputs": [
    {
     "data": {
      "text/plain": [
       "2264"
      ]
     },
     "execution_count": 39,
     "metadata": {},
     "output_type": "execute_result"
    }
   ],
   "source": [
    "import tensorflow as tf\n",
    "converter = tf.lite.TFLiteConverter.from_keras_model(model)\n",
    "converter.post_training_quantize = True\n",
    "tflite_buffer = converter.convert()\n",
    "open( 'android/model.tflite' , 'wb' ).write( tflite_buffer )"
   ]
  },
  {
   "cell_type": "code",
   "execution_count": null,
   "metadata": {},
   "outputs": [],
   "source": []
  }
 ],
 "metadata": {
  "kernelspec": {
   "display_name": "Python 3",
   "language": "python",
   "name": "python3"
  },
  "language_info": {
   "codemirror_mode": {
    "name": "ipython",
    "version": 3
   },
   "file_extension": ".py",
   "mimetype": "text/x-python",
   "name": "python",
   "nbconvert_exporter": "python",
   "pygments_lexer": "ipython3",
   "version": "3.7.6"
  }
 },
 "nbformat": 4,
 "nbformat_minor": 4
}
