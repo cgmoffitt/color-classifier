{
 "cells": [
  {
   "cell_type": "code",
   "execution_count": 6,
   "metadata": {},
   "outputs": [],
   "source": [
    "import keras\n",
    "import os\n",
    "import numpy as np"
   ]
  },
  {
   "cell_type": "code",
   "execution_count": 7,
   "metadata": {},
   "outputs": [
    {
     "name": "stdout",
     "output_type": "stream",
     "text": [
      "Hello World\n"
     ]
    }
   ],
   "source": [
    "print('Hello World')"
   ]
  },
  {
   "cell_type": "code",
   "execution_count": null,
   "metadata": {},
   "outputs": [],
   "source": []
  },
  {
   "cell_type": "code",
   "execution_count": 8,
   "metadata": {},
   "outputs": [],
   "source": [
    "colors = []\n",
    "labels = [\n",
    "        \"red\",\n",
    "        \"green\",\n",
    "        \"blue\",\n",
    "        \"orange\",\n",
    "        \"yellow\",\n",
    "        \"pink\",\n",
    "        \"purple\",\n",
    "        \"brown\",\n",
    "        \"grey\"\n",
    "    ]\n",
    "labelsList = []"
   ]
  },
  {
   "cell_type": "code",
   "execution_count": 9,
   "metadata": {},
   "outputs": [],
   "source": [
    "filepath = \"clean_data.txt\"\n",
    "if not os.path.isfile(filepath):\n",
    "    print(\"File path {} does not exist. Exiting...\".format(filepath))\n",
    "    sys.exit()\n",
    "with open(filepath) as fp:\n",
    "    i = 0\n",
    "    r = 0\n",
    "    g = 0\n",
    "    b = 0\n",
    "    for line in fp:\n",
    "        word = line.split(\",\")\n",
    "        col = [float(word[0]) / 255, float(word[1]) / 255, float(word[2]) / 255]\n",
    "        colors.append(col)\n",
    "        labelsList.append(labels.index(word[3].rstrip(\"\\n\")))\n",
    "            "
   ]
  },
  {
   "cell_type": "code",
   "execution_count": 18,
   "metadata": {},
   "outputs": [
    {
     "name": "stdout",
     "output_type": "stream",
     "text": [
      "[[0.31764706 0.71764706 0.60784314]\n",
      " [0.97647059 0.08627451 0.27843137]\n",
      " [0.99607843 0.76862745 0.12941176]\n",
      " ...\n",
      " [0.98431373 0.25882353 0.61960784]\n",
      " [0.56470588 0.53333333 0.41568627]\n",
      " [0.97647059 0.88627451 0.12941176]]\n",
      "tf.Tensor(\n",
      "[[0. 1. 0. ... 0. 0. 0.]\n",
      " [0. 0. 0. ... 0. 0. 0.]\n",
      " [0. 0. 0. ... 0. 0. 0.]\n",
      " ...\n",
      " [0. 0. 0. ... 0. 0. 0.]\n",
      " [0. 0. 0. ... 0. 0. 1.]\n",
      " [0. 0. 0. ... 0. 0. 0.]], shape=(5643, 9), dtype=float32)\n"
     ]
    }
   ],
   "source": [
    "xs = np.array(colors)\n",
    "print(xs)\n",
    "labelsList = np.array(labelsList)\n",
    "ys = keras.backend.one_hot(labelsList, 9)\n",
    "print(ys)\n"
   ]
  },
  {
   "cell_type": "code",
   "execution_count": 19,
   "metadata": {},
   "outputs": [],
   "source": [
    "model = keras.Sequential()\n",
    "    \n",
    "model.add(keras.layers.Dense(units=16, activation='sigmoid', input_shape=[3]))\n",
    "\n",
    "model.add(keras.layers.Dense(units=9, activation='softmax'))\n",
    "\n",
    "# create an optimizer\n",
    "opt = keras.optimizers.SGD(learning_rate=0.2)\n",
    "# MeanSquareError ->CrossEntropy\n",
    "model.compile(optimizer=opt, loss='categoricalCrossentropy')\n"
   ]
  },
  {
   "cell_type": "code",
   "execution_count": null,
   "metadata": {},
   "outputs": [],
   "source": []
  }
 ],
 "metadata": {
  "kernelspec": {
   "display_name": "Python 3",
   "language": "python",
   "name": "python3"
  },
  "language_info": {
   "codemirror_mode": {
    "name": "ipython",
    "version": 3
   },
   "file_extension": ".py",
   "mimetype": "text/x-python",
   "name": "python",
   "nbconvert_exporter": "python",
   "pygments_lexer": "ipython3",
   "version": "3.7.8"
  }
 },
 "nbformat": 4,
 "nbformat_minor": 4
}
