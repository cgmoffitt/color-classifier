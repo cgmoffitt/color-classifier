{
 "cells": [
  {
   "cell_type": "code",
   "execution_count": null,
   "metadata": {},
   "outputs": [],
   "source": [
    "#Imports\n",
    "import keras\n",
    "import os\n",
    "import numpy as np"
   ]
  },
  {
   "cell_type": "code",
   "execution_count": null,
   "metadata": {},
   "outputs": [],
   "source": [
    "#Declare possible labels\n",
    "data = []\n",
    "labels = [\n",
    "        \"red\",\n",
    "        \"green\",\n",
    "        \"blue\",\n",
    "        \"orange\",\n",
    "        \"yellow\",\n",
    "        \"pink\",\n",
    "        \"purple\",\n",
    "        \"brown\",\n",
    "        \"grey\",\n",
    "        \"black\"\n",
    "    ]"
   ]
  },
  {
   "cell_type": "code",
   "execution_count": null,
   "metadata": {},
   "outputs": [],
   "source": [
    "#Load data and labels from clean_data.txt\n",
    "filepath = \"clean_data.txt\"\n",
    "if not os.path.isfile(filepath):\n",
    "    print(\"File path {} does not exist. Exiting...\".format(filepath))\n",
    "    sys.exit()\n",
    "with open(filepath) as fp:\n",
    "    entry = []\n",
    "    for line in fp:\n",
    "        word = line.split(\",\")\n",
    "        r = word[0]\n",
    "        g = word[1]\n",
    "        b = word[2]\n",
    "        label = word[3].rstrip(\"\\n\")\n",
    "        entry = [r, g, b, label]\n",
    "        data.append(entry)"
   ]
  },
  {
   "cell_type": "code",
   "execution_count": null,
   "metadata": {},
   "outputs": [],
   "source": [
    "#Prepare data\n",
    "np.random.shuffle(data)\n",
    "data = np.array(data)\n",
    "xs = data[:,0:3]\n",
    "xs = np.divide(xs.astype(np.float), 255) #normalize\n",
    "print(np.shape(xs))\n",
    "\n",
    "ys = data[:, 3]\n",
    "ys = np.vectorize(labels.index)(ys)\n",
    "print(np.shape(ys))\n"
   ]
  },
  {
   "cell_type": "code",
   "execution_count": null,
   "metadata": {},
   "outputs": [],
   "source": [
    "#Seperate into training and testing data\n",
    "XTrain = xs[0:5500,:]\n",
    "YTrain = ys[0:5500]\n",
    "YTrain = keras.backend.one_hot(YTrain, 10)\n",
    "\n",
    "XTest = xs[5500:, :]\n",
    "YTest = ys[5500:]\n",
    "YTest = keras.backend.one_hot(YTest, 10)"
   ]
  },
  {
   "cell_type": "code",
   "execution_count": null,
   "metadata": {},
   "outputs": [],
   "source": [
    "#Create architecture for model\n",
    "model = keras.Sequential()\n",
    "    \n",
    "model.add(keras.layers.Dense(units=16, activation='sigmoid', input_shape=[3]))\n",
    "\n",
    "model.add(keras.layers.Dense(units=10, activation='softmax'))\n",
    "\n",
    "opt = keras.optimizers.SGD(learning_rate=0.2)\n",
    "\n",
    "model.compile(optimizer=opt, loss='categorical_crossentropy', metrics=['accuracy', keras.metrics.Precision(), keras.metrics.Recall()])\n"
   ]
  },
  {
   "cell_type": "code",
   "execution_count": null,
   "metadata": {
    "scrolled": false
   },
   "outputs": [],
   "source": [
    "#Train model\n",
    "history = model.fit(x=XTrain,y=YTrain, epochs=500, validation_split=0.1)"
   ]
  },
  {
   "cell_type": "code",
   "execution_count": null,
   "metadata": {},
   "outputs": [],
   "source": [
    "#Specify here what rgb values you want to test\n",
    "r = 31\n",
    "g = 38\n",
    "b = 163"
   ]
  },
  {
   "cell_type": "code",
   "execution_count": null,
   "metadata": {},
   "outputs": [],
   "source": [
    "#Convert to regularized numpy array for the model\n",
    "predict = [[(r / 255), (g / 255), (b / 255)]]\n",
    "predict = np.array(predict)"
   ]
  },
  {
   "cell_type": "code",
   "execution_count": null,
   "metadata": {},
   "outputs": [],
   "source": [
    "#Make model prediction\n",
    "prediction = model.predict(predict)\n",
    "prediction = keras.backend.argmax(prediction, axis=-1)\n",
    "prediction = labels[int(prediction)]\n",
    "print(prediction)"
   ]
  },
  {
   "cell_type": "code",
   "execution_count": null,
   "metadata": {},
   "outputs": [],
   "source": [
    "#Save model as h5 file\n",
    "model.save( 'models/model.h5' )"
   ]
  },
  {
   "cell_type": "code",
   "execution_count": null,
   "metadata": {},
   "outputs": [],
   "source": [
    "#Save model as tflite file\n",
    "import tensorflow as tf\n",
    "converter = tf.lite.TFLiteConverter.from_keras_model(model)\n",
    "converter.post_training_quantize = True\n",
    "tflite_buffer = converter.convert()\n",
    "open( 'android/model.tflite' , 'wb' ).write( tflite_buffer )"
   ]
  },
  {
   "cell_type": "code",
   "execution_count": null,
   "metadata": {},
   "outputs": [],
   "source": [
    "#Plot loss and accuracy history of training\n",
    "import matplotlib.pyplot as plt\n",
    "\n",
    "plt.plot(history.history['accuracy'])\n",
    "plt.plot(history.history['val_accuracy'])\n",
    "plt.title('model accuracy')\n",
    "plt.ylabel('accuracy')\n",
    "plt.xlabel('epoch')\n",
    "plt.legend(['train', 'val'], loc='upper left')\n",
    "plt.show()\n",
    "plt.plot(history.history['loss'])\n",
    "plt.plot(history.history['val_loss'])\n",
    "plt.title('model loss')\n",
    "plt.ylabel('loss')\n",
    "plt.xlabel('epoch')\n",
    "plt.legend(['train', 'val'], loc='upper left')\n",
    "plt.show()\n",
    "\n"
   ]
  },
  {
   "cell_type": "code",
   "execution_count": null,
   "metadata": {},
   "outputs": [],
   "source": [
    "def displayResults(results):   \n",
    "    loss = results[0]\n",
    "    accuracy = results[1]\n",
    "    precision = results[2]\n",
    "    recall = results[3]\n",
    "    f1_score = calculateF1(precision, recall)\n",
    "    print('\\n\\nResults from evaluating on training data: \\n')\n",
    "    print('Loss', round(loss, 2))\n",
    "    print('Accuracy', round(accuracy, 2))\n",
    "    print('Precision: ', round(precision, 2))\n",
    "    print('Recall: ', round(recall, 2))\n",
    "    print('F1 Score: ', round(f1_score, 2))"
   ]
  },
  {
   "cell_type": "code",
   "execution_count": null,
   "metadata": {
    "scrolled": true
   },
   "outputs": [],
   "source": [
    "trainEval = model.evaluate(x=XTrain, y=YTrain)\n",
    "displayResults(trainEval)"
   ]
  },
  {
   "cell_type": "code",
   "execution_count": null,
   "metadata": {},
   "outputs": [],
   "source": [
    "testEval = model.evaluate(x=XTest, y=YTest)\n",
    "displayResults(testEval)\n",
    "\n"
   ]
  },
  {
   "cell_type": "code",
   "execution_count": null,
   "metadata": {},
   "outputs": [],
   "source": [
    "def calculateF1(precision, recall):\n",
    "    return 2 * ((precision * recall)/ (precision + recall))"
   ]
  },
  {
   "cell_type": "code",
   "execution_count": null,
   "metadata": {},
   "outputs": [],
   "source": [
    "model.evaluate(x=XTest, y=YTest)"
   ]
  },
  {
   "cell_type": "code",
   "execution_count": null,
   "metadata": {},
   "outputs": [],
   "source": []
  }
 ],
 "metadata": {
  "kernelspec": {
   "display_name": "Python 3",
   "language": "python",
   "name": "python3"
  },
  "language_info": {
   "codemirror_mode": {
    "name": "ipython",
    "version": 3
   },
   "file_extension": ".py",
   "mimetype": "text/x-python",
   "name": "python",
   "nbconvert_exporter": "python",
   "pygments_lexer": "ipython3",
   "version": "3.7.6"
  }
 },
 "nbformat": 4,
 "nbformat_minor": 4
}
